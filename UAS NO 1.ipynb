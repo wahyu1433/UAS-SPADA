{
 "cells": [
  {
   "cell_type": "code",
   "execution_count": 4,
   "id": "f2724353",
   "metadata": {},
   "outputs": [],
   "source": [
    "import numpy as np\n",
    "import pandas as pd\n",
    "import matplotlib.pyplot as plt"
   ]
  },
  {
   "cell_type": "code",
   "execution_count": 5,
   "id": "9d0c12bf",
   "metadata": {},
   "outputs": [],
   "source": [
    "data = pd.read_excel('C:/Users/Administrator/Downloads/UASmain/dataset_soal1.xls')"
   ]
  },
  {
   "cell_type": "code",
   "execution_count": 6,
   "id": "2dbf2087",
   "metadata": {},
   "outputs": [
    {
     "data": {
      "text/plain": [
       "(51, 5)"
      ]
     },
     "execution_count": 6,
     "metadata": {},
     "output_type": "execute_result"
    }
   ],
   "source": [
    "data.shape"
   ]
  },
  {
   "cell_type": "code",
   "execution_count": 7,
   "id": "39bb3e50",
   "metadata": {},
   "outputs": [
    {
     "data": {
      "text/plain": [
       "Yes    29\n",
       "No     22\n",
       "Name: Class (buy_computer), dtype: int64"
      ]
     },
     "execution_count": 7,
     "metadata": {},
     "output_type": "execute_result"
    }
   ],
   "source": [
    "data['Class (buy_computer)'].value_counts()"
   ]
  },
  {
   "cell_type": "code",
   "execution_count": 8,
   "id": "531a76ea",
   "metadata": {},
   "outputs": [],
   "source": [
    "PYes = 29/51\n",
    "PNo = 22/51"
   ]
  },
  {
   "cell_type": "code",
   "execution_count": 9,
   "id": "f3af62d9",
   "metadata": {},
   "outputs": [
    {
     "name": "stdout",
     "output_type": "stream",
     "text": [
      "0.5686274509803921\n"
     ]
    }
   ],
   "source": [
    "print(PYes)"
   ]
  },
  {
   "cell_type": "code",
   "execution_count": 10,
   "id": "fde0c89c",
   "metadata": {},
   "outputs": [
    {
     "name": "stdout",
     "output_type": "stream",
     "text": [
      "0.43137254901960786\n"
     ]
    }
   ],
   "source": [
    "print(PNo)"
   ]
  },
  {
   "cell_type": "code",
   "execution_count": 28,
   "id": "0bac5eef",
   "metadata": {},
   "outputs": [
    {
     "data": {
      "text/html": [
       "<div>\n",
       "<style scoped>\n",
       "    .dataframe tbody tr th:only-of-type {\n",
       "        vertical-align: middle;\n",
       "    }\n",
       "\n",
       "    .dataframe tbody tr th {\n",
       "        vertical-align: top;\n",
       "    }\n",
       "\n",
       "    .dataframe thead th {\n",
       "        text-align: right;\n",
       "    }\n",
       "</style>\n",
       "<table border=\"1\" class=\"dataframe\">\n",
       "  <thead>\n",
       "    <tr style=\"text-align: right;\">\n",
       "      <th>Class (buy_computer)</th>\n",
       "      <th>No</th>\n",
       "      <th>Yes</th>\n",
       "    </tr>\n",
       "    <tr>\n",
       "      <th>Student</th>\n",
       "      <th></th>\n",
       "      <th></th>\n",
       "    </tr>\n",
       "  </thead>\n",
       "  <tbody>\n",
       "    <tr>\n",
       "      <th>No</th>\n",
       "      <td>10</td>\n",
       "      <td>14</td>\n",
       "    </tr>\n",
       "    <tr>\n",
       "      <th>Yes</th>\n",
       "      <td>12</td>\n",
       "      <td>15</td>\n",
       "    </tr>\n",
       "  </tbody>\n",
       "</table>\n",
       "</div>"
      ],
      "text/plain": [
       "Class (buy_computer)  No  Yes\n",
       "Student                      \n",
       "No                    10   14\n",
       "Yes                   12   15"
      ]
     },
     "execution_count": 28,
     "metadata": {},
     "output_type": "execute_result"
    }
   ],
   "source": [
    "pd.crosstab(data['Student'], data['Class (buy_computer)'])"
   ]
  },
  {
   "cell_type": "code",
   "execution_count": 11,
   "id": "9c440446",
   "metadata": {},
   "outputs": [
    {
     "name": "stdout",
     "output_type": "stream",
     "text": [
      "0.5172413793103449\n"
     ]
    }
   ],
   "source": [
    "PbukanmuridNo = 10/22\n",
    "PmuridNo = 12/22\n",
    "\n",
    "PbukanmuridYes = 14/29\n",
    "PmuridYes = 15/29\n",
    "\n",
    "Pmurid = 27/51\n",
    "Pbukanmurid = 24/51\n",
    "\n",
    "print(PmuridYes)"
   ]
  },
  {
   "cell_type": "code",
   "execution_count": 12,
   "id": "b252e55f",
   "metadata": {},
   "outputs": [
    {
     "name": "stdout",
     "output_type": "stream",
     "text": [
      "0.4444444444444444\n"
     ]
    }
   ],
   "source": [
    "PNomurid = (PmuridNo*PNo)/Pmurid\n",
    "print(PNomurid)"
   ]
  },
  {
   "cell_type": "code",
   "execution_count": 17,
   "id": "116dfbe6",
   "metadata": {},
   "outputs": [
    {
     "name": "stdout",
     "output_type": "stream",
     "text": [
      "0.5555555555555556\n"
     ]
    }
   ],
   "source": [
    "PYesmurid = (PmuridYes*PYes)/Pmurid\n",
    "print(PYesmurid)"
   ]
  },
  {
   "cell_type": "code",
   "execution_count": 20,
   "id": "0bfd0eae",
   "metadata": {},
   "outputs": [
    {
     "name": "stdout",
     "output_type": "stream",
     "text": [
      "0.4444444444444444\n",
      "0.5555555555555556\n"
     ]
    }
   ],
   "source": [
    "print(PNomurid)\n",
    "print(PYesmurid)"
   ]
  },
  {
   "cell_type": "code",
   "execution_count": 36,
   "id": "987e8663",
   "metadata": {},
   "outputs": [
    {
     "data": {
      "text/html": [
       "<div>\n",
       "<style scoped>\n",
       "    .dataframe tbody tr th:only-of-type {\n",
       "        vertical-align: middle;\n",
       "    }\n",
       "\n",
       "    .dataframe tbody tr th {\n",
       "        vertical-align: top;\n",
       "    }\n",
       "\n",
       "    .dataframe thead th {\n",
       "        text-align: right;\n",
       "    }\n",
       "</style>\n",
       "<table border=\"1\" class=\"dataframe\">\n",
       "  <thead>\n",
       "    <tr style=\"text-align: right;\">\n",
       "      <th>Class (buy_computer)</th>\n",
       "      <th>No</th>\n",
       "      <th>Yes</th>\n",
       "    </tr>\n",
       "    <tr>\n",
       "      <th>Income</th>\n",
       "      <th></th>\n",
       "      <th></th>\n",
       "    </tr>\n",
       "  </thead>\n",
       "  <tbody>\n",
       "    <tr>\n",
       "      <th>High</th>\n",
       "      <td>6</td>\n",
       "      <td>5</td>\n",
       "    </tr>\n",
       "    <tr>\n",
       "      <th>Low</th>\n",
       "      <td>11</td>\n",
       "      <td>10</td>\n",
       "    </tr>\n",
       "    <tr>\n",
       "      <th>Medium</th>\n",
       "      <td>5</td>\n",
       "      <td>14</td>\n",
       "    </tr>\n",
       "  </tbody>\n",
       "</table>\n",
       "</div>"
      ],
      "text/plain": [
       "Class (buy_computer)  No  Yes\n",
       "Income                       \n",
       "High                   6    5\n",
       "Low                   11   10\n",
       "Medium                 5   14"
      ]
     },
     "execution_count": 36,
     "metadata": {},
     "output_type": "execute_result"
    }
   ],
   "source": [
    "pd.crosstab(data['Income'], data['Class (buy_computer)'])"
   ]
  },
  {
   "cell_type": "code",
   "execution_count": 37,
   "id": "b5c8ae19",
   "metadata": {},
   "outputs": [],
   "source": [
    "PHighNo = 6/22\n",
    "PLowNo = 11/22\n",
    "PMediumNo = 5/22\n",
    "\n",
    "PHighYes = 5/29\n",
    "PLowYes = 10/29\n",
    "PMediumYes = 14/29\n",
    "\n",
    "PHigh = 11/51\n",
    "PLow = 21/51\n",
    "PMedium = 19/51"
   ]
  },
  {
   "cell_type": "code",
   "execution_count": 46,
   "id": "2837bbdf",
   "metadata": {},
   "outputs": [
    {
     "name": "stdout",
     "output_type": "stream",
     "text": [
      "0.5396825396825398\n"
     ]
    }
   ],
   "source": [
    "PNoBuy = ((PmuridNo*PLowNo)*PNo)/(Pmurid*PLow)\n",
    "print(PNoBuy)"
   ]
  },
  {
   "cell_type": "code",
   "execution_count": 48,
   "id": "2f6b0290",
   "metadata": {},
   "outputs": [
    {
     "name": "stdout",
     "output_type": "stream",
     "text": [
      "0.46524356869184463\n"
     ]
    }
   ],
   "source": [
    "PBuy = ((PmuridYes*PLowYes)*PYes)/(Pmurid*PLow)\n",
    "print(PBuy)"
   ]
  },
  {
   "cell_type": "code",
   "execution_count": 42,
   "id": "1b8ae1ca",
   "metadata": {},
   "outputs": [
    {
     "name": "stdout",
     "output_type": "stream",
     "text": [
      "1.0049261083743843\n"
     ]
    }
   ],
   "source": [
    "PSum = PNoBuy+PBuy\n",
    "print(PSum)"
   ]
  },
  {
   "cell_type": "code",
   "execution_count": 44,
   "id": "29607b92",
   "metadata": {},
   "outputs": [
    {
     "name": "stdout",
     "output_type": "stream",
     "text": [
      "46.296296296296305\n"
     ]
    }
   ],
   "source": [
    "PBuy= (PBuy/PSum)*100\n",
    "print(PBuy)"
   ]
  },
  {
   "cell_type": "code",
   "execution_count": 45,
   "id": "71193f83",
   "metadata": {},
   "outputs": [
    {
     "name": "stdout",
     "output_type": "stream",
     "text": [
      "54.23410743607789\n"
     ]
    }
   ],
   "source": [
    "PNoBuy = (PNoBuy*PSum)*100\n",
    "print(PNoBuy)"
   ]
  },
  {
   "cell_type": "code",
   "execution_count": null,
   "id": "c1d6cf9f",
   "metadata": {},
   "outputs": [],
   "source": []
  }
 ],
 "metadata": {
  "kernelspec": {
   "display_name": "Python 3",
   "language": "python",
   "name": "python3"
  },
  "language_info": {
   "codemirror_mode": {
    "name": "ipython",
    "version": 3
   },
   "file_extension": ".py",
   "mimetype": "text/x-python",
   "name": "python",
   "nbconvert_exporter": "python",
   "pygments_lexer": "ipython3",
   "version": "3.8.8"
  }
 },
 "nbformat": 4,
 "nbformat_minor": 5
}
